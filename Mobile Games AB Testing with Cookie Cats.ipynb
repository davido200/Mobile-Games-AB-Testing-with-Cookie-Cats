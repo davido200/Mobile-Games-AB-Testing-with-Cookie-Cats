{
 "cells": [
  {
   "cell_type": "code",
   "execution_count": 18,
   "id": "931ba96f-ba8a-4986-953a-246bbe533b8e",
   "metadata": {},
   "outputs": [],
   "source": [
    "import pandas as pd\n",
    "import seaborn as sns\n",
    "import matplotlib.pyplot as plt\n",
    "\n",
    "import warnings\n",
    "warnings.filterwarnings(\"ignore\")\n"
   ]
  },
  {
   "cell_type": "code",
   "execution_count": 17,
   "id": "0d36f2e4-06f3-45c9-ac3b-8e9ce59c74c8",
   "metadata": {},
   "outputs": [],
   "source": [
    "df = pd.read_csv('cookie_cats.csv')"
   ]
  },
  {
   "cell_type": "code",
   "execution_count": 3,
   "id": "2ce0b18a-e331-4463-aca5-6fee3310c9fb",
   "metadata": {},
   "outputs": [
    {
     "data": {
      "text/html": [
       "<div>\n",
       "<style scoped>\n",
       "    .dataframe tbody tr th:only-of-type {\n",
       "        vertical-align: middle;\n",
       "    }\n",
       "\n",
       "    .dataframe tbody tr th {\n",
       "        vertical-align: top;\n",
       "    }\n",
       "\n",
       "    .dataframe thead th {\n",
       "        text-align: right;\n",
       "    }\n",
       "</style>\n",
       "<table border=\"1\" class=\"dataframe\">\n",
       "  <thead>\n",
       "    <tr style=\"text-align: right;\">\n",
       "      <th></th>\n",
       "      <th>userid</th>\n",
       "      <th>version</th>\n",
       "      <th>sum_gamerounds</th>\n",
       "      <th>retention_1</th>\n",
       "      <th>retention_7</th>\n",
       "    </tr>\n",
       "  </thead>\n",
       "  <tbody>\n",
       "    <tr>\n",
       "      <th>0</th>\n",
       "      <td>116</td>\n",
       "      <td>gate_30</td>\n",
       "      <td>3</td>\n",
       "      <td>False</td>\n",
       "      <td>False</td>\n",
       "    </tr>\n",
       "    <tr>\n",
       "      <th>1</th>\n",
       "      <td>337</td>\n",
       "      <td>gate_30</td>\n",
       "      <td>38</td>\n",
       "      <td>True</td>\n",
       "      <td>False</td>\n",
       "    </tr>\n",
       "    <tr>\n",
       "      <th>2</th>\n",
       "      <td>377</td>\n",
       "      <td>gate_40</td>\n",
       "      <td>165</td>\n",
       "      <td>True</td>\n",
       "      <td>False</td>\n",
       "    </tr>\n",
       "    <tr>\n",
       "      <th>3</th>\n",
       "      <td>483</td>\n",
       "      <td>gate_40</td>\n",
       "      <td>1</td>\n",
       "      <td>False</td>\n",
       "      <td>False</td>\n",
       "    </tr>\n",
       "    <tr>\n",
       "      <th>4</th>\n",
       "      <td>488</td>\n",
       "      <td>gate_40</td>\n",
       "      <td>179</td>\n",
       "      <td>True</td>\n",
       "      <td>True</td>\n",
       "    </tr>\n",
       "    <tr>\n",
       "      <th>5</th>\n",
       "      <td>540</td>\n",
       "      <td>gate_40</td>\n",
       "      <td>187</td>\n",
       "      <td>True</td>\n",
       "      <td>True</td>\n",
       "    </tr>\n",
       "    <tr>\n",
       "      <th>6</th>\n",
       "      <td>1066</td>\n",
       "      <td>gate_30</td>\n",
       "      <td>0</td>\n",
       "      <td>False</td>\n",
       "      <td>False</td>\n",
       "    </tr>\n",
       "    <tr>\n",
       "      <th>7</th>\n",
       "      <td>1444</td>\n",
       "      <td>gate_40</td>\n",
       "      <td>2</td>\n",
       "      <td>False</td>\n",
       "      <td>False</td>\n",
       "    </tr>\n",
       "    <tr>\n",
       "      <th>8</th>\n",
       "      <td>1574</td>\n",
       "      <td>gate_40</td>\n",
       "      <td>108</td>\n",
       "      <td>True</td>\n",
       "      <td>True</td>\n",
       "    </tr>\n",
       "    <tr>\n",
       "      <th>9</th>\n",
       "      <td>1587</td>\n",
       "      <td>gate_40</td>\n",
       "      <td>153</td>\n",
       "      <td>True</td>\n",
       "      <td>False</td>\n",
       "    </tr>\n",
       "  </tbody>\n",
       "</table>\n",
       "</div>"
      ],
      "text/plain": [
       "   userid  version  sum_gamerounds  retention_1  retention_7\n",
       "0     116  gate_30               3        False        False\n",
       "1     337  gate_30              38         True        False\n",
       "2     377  gate_40             165         True        False\n",
       "3     483  gate_40               1        False        False\n",
       "4     488  gate_40             179         True         True\n",
       "5     540  gate_40             187         True         True\n",
       "6    1066  gate_30               0        False        False\n",
       "7    1444  gate_40               2        False        False\n",
       "8    1574  gate_40             108         True         True\n",
       "9    1587  gate_40             153         True        False"
      ]
     },
     "execution_count": 3,
     "metadata": {},
     "output_type": "execute_result"
    }
   ],
   "source": [
    "df.head(10)"
   ]
  },
  {
   "cell_type": "code",
   "execution_count": 4,
   "id": "6fc64305-df68-4415-8396-e27adeb6dc15",
   "metadata": {},
   "outputs": [
    {
     "data": {
      "text/plain": [
       "userid            90189\n",
       "version           90189\n",
       "sum_gamerounds    90189\n",
       "retention_1       90189\n",
       "retention_7       90189\n",
       "dtype: int64"
      ]
     },
     "execution_count": 4,
     "metadata": {},
     "output_type": "execute_result"
    }
   ],
   "source": [
    "df.count()"
   ]
  },
  {
   "cell_type": "code",
   "execution_count": 7,
   "id": "d59192a0-f06f-4167-9024-bf1d737d3632",
   "metadata": {},
   "outputs": [
    {
     "data": {
      "text/plain": [
       "90189"
      ]
     },
     "execution_count": 7,
     "metadata": {},
     "output_type": "execute_result"
    }
   ],
   "source": [
    "#Checking Duplicates\n",
    "unique_userid_count = df['userid'].nunique()\n",
    "unique_userid_count"
   ]
  },
  {
   "cell_type": "code",
   "execution_count": 8,
   "id": "e616b857-fa37-4682-b853-8c7a44ceef90",
   "metadata": {},
   "outputs": [],
   "source": [
    "df[['retention_1', 'retention_7']] = df[['retention_1', 'retention_7']].astype(int)"
   ]
  },
  {
   "cell_type": "code",
   "execution_count": 10,
   "id": "a55d9cf4-bb00-492c-b251-d6aecee12bcb",
   "metadata": {},
   "outputs": [
    {
     "data": {
      "text/html": [
       "<div>\n",
       "<style scoped>\n",
       "    .dataframe tbody tr th:only-of-type {\n",
       "        vertical-align: middle;\n",
       "    }\n",
       "\n",
       "    .dataframe tbody tr th {\n",
       "        vertical-align: top;\n",
       "    }\n",
       "\n",
       "    .dataframe thead th {\n",
       "        text-align: right;\n",
       "    }\n",
       "</style>\n",
       "<table border=\"1\" class=\"dataframe\">\n",
       "  <thead>\n",
       "    <tr style=\"text-align: right;\">\n",
       "      <th></th>\n",
       "      <th>userid</th>\n",
       "      <th>version</th>\n",
       "      <th>sum_gamerounds</th>\n",
       "      <th>retention_1</th>\n",
       "      <th>retention_7</th>\n",
       "    </tr>\n",
       "  </thead>\n",
       "  <tbody>\n",
       "    <tr>\n",
       "      <th>0</th>\n",
       "      <td>116</td>\n",
       "      <td>gate_30</td>\n",
       "      <td>3</td>\n",
       "      <td>0</td>\n",
       "      <td>0</td>\n",
       "    </tr>\n",
       "    <tr>\n",
       "      <th>1</th>\n",
       "      <td>337</td>\n",
       "      <td>gate_30</td>\n",
       "      <td>38</td>\n",
       "      <td>1</td>\n",
       "      <td>0</td>\n",
       "    </tr>\n",
       "    <tr>\n",
       "      <th>2</th>\n",
       "      <td>377</td>\n",
       "      <td>gate_40</td>\n",
       "      <td>165</td>\n",
       "      <td>1</td>\n",
       "      <td>0</td>\n",
       "    </tr>\n",
       "    <tr>\n",
       "      <th>3</th>\n",
       "      <td>483</td>\n",
       "      <td>gate_40</td>\n",
       "      <td>1</td>\n",
       "      <td>0</td>\n",
       "      <td>0</td>\n",
       "    </tr>\n",
       "    <tr>\n",
       "      <th>4</th>\n",
       "      <td>488</td>\n",
       "      <td>gate_40</td>\n",
       "      <td>179</td>\n",
       "      <td>1</td>\n",
       "      <td>1</td>\n",
       "    </tr>\n",
       "    <tr>\n",
       "      <th>5</th>\n",
       "      <td>540</td>\n",
       "      <td>gate_40</td>\n",
       "      <td>187</td>\n",
       "      <td>1</td>\n",
       "      <td>1</td>\n",
       "    </tr>\n",
       "    <tr>\n",
       "      <th>6</th>\n",
       "      <td>1066</td>\n",
       "      <td>gate_30</td>\n",
       "      <td>0</td>\n",
       "      <td>0</td>\n",
       "      <td>0</td>\n",
       "    </tr>\n",
       "    <tr>\n",
       "      <th>7</th>\n",
       "      <td>1444</td>\n",
       "      <td>gate_40</td>\n",
       "      <td>2</td>\n",
       "      <td>0</td>\n",
       "      <td>0</td>\n",
       "    </tr>\n",
       "    <tr>\n",
       "      <th>8</th>\n",
       "      <td>1574</td>\n",
       "      <td>gate_40</td>\n",
       "      <td>108</td>\n",
       "      <td>1</td>\n",
       "      <td>1</td>\n",
       "    </tr>\n",
       "    <tr>\n",
       "      <th>9</th>\n",
       "      <td>1587</td>\n",
       "      <td>gate_40</td>\n",
       "      <td>153</td>\n",
       "      <td>1</td>\n",
       "      <td>0</td>\n",
       "    </tr>\n",
       "  </tbody>\n",
       "</table>\n",
       "</div>"
      ],
      "text/plain": [
       "   userid  version  sum_gamerounds  retention_1  retention_7\n",
       "0     116  gate_30               3            0            0\n",
       "1     337  gate_30              38            1            0\n",
       "2     377  gate_40             165            1            0\n",
       "3     483  gate_40               1            0            0\n",
       "4     488  gate_40             179            1            1\n",
       "5     540  gate_40             187            1            1\n",
       "6    1066  gate_30               0            0            0\n",
       "7    1444  gate_40               2            0            0\n",
       "8    1574  gate_40             108            1            1\n",
       "9    1587  gate_40             153            1            0"
      ]
     },
     "execution_count": 10,
     "metadata": {},
     "output_type": "execute_result"
    }
   ],
   "source": [
    "df.head(10)"
   ]
  },
  {
   "cell_type": "code",
   "execution_count": 37,
   "id": "b8d456b4-c8da-4630-8dfe-33dcdf3ed999",
   "metadata": {},
   "outputs": [
    {
     "data": {
      "text/plain": [
       "version\n",
       "gate_40    45489\n",
       "gate_30    44700\n",
       "Name: count, dtype: int64"
      ]
     },
     "execution_count": 37,
     "metadata": {},
     "output_type": "execute_result"
    }
   ],
   "source": [
    "# Checking group Size\n",
    "df['version'].value_counts()"
   ]
  },
  {
   "cell_type": "code",
   "execution_count": 13,
   "id": "b2447746-d563-4287-9cd6-17bb1166c941",
   "metadata": {},
   "outputs": [
    {
     "data": {
      "image/png": "[encoded data removed]",
      "text/plain": [
       "<Figure size 640x480 with 1 Axes>"
      ]
     },
     "metadata": {},
     "output_type": "display_data"
    }
   ],
   "source": [
    "plot_df = df.groupby(\"sum_gamerounds\")[\"userid\"].count()\n",
    "\n",
    "# Plotting the distribution of players that played 0 to 100 game rounds\n",
    "ax = plot_df.head(100).plot()\n",
    "plt.title(\"The distribution of players\", fontweight=\"bold\", size=14)\n",
    "plt.xlabel(\"total gamerounds\", size=12)\n",
    "plt.ylabel(\"number of player\", size=12)\n",
    "plt.show()"
   ]
  },
  {
   "cell_type": "markdown",
   "id": "5bef4077-fe71-47e8-ae0a-cc74a354afd7",
   "metadata": {},
   "source": [
    "In the plot above we can see that some players install the game but then never play it (0 game rounds). Let's find there are how many of them."
   ]
  },
  {
   "cell_type": "code",
   "execution_count": 55,
   "id": "38c88d12-ab28-45f2-baae-320ef1c45696",
   "metadata": {},
   "outputs": [
    {
     "data": {
      "text/plain": [
       "3994"
      ]
     },
     "execution_count": 55,
     "metadata": {},
     "output_type": "execute_result"
    }
   ],
   "source": [
    "df[df[\"sum_gamerounds\"]== 0][\"userid\"].count()"
   ]
  },
  {
   "cell_type": "markdown",
   "id": "47fb20cc-9d95-4fa5-949b-6e714531215d",
   "metadata": {},
   "source": [
    "3994 players never played the game, just installed it. "
   ]
  },
  {
   "cell_type": "code",
   "execution_count": 19,
   "id": "adbba3d8-b8e3-4360-b109-627f92335cc5",
   "metadata": {},
   "outputs": [
    {
     "name": "stdout",
     "output_type": "stream",
     "text": [
      "1-day retention ratio: 44.52%       \n",
      "7-days retention ratio: 18.61%\n"
     ]
    }
   ],
   "source": [
    "df_retention = df[[\"retention_1\",\"retention_7\"]].mean()*100\n",
    "print(f\"1-day retention ratio: {round(df_retention[0],2)}% \\\n",
    "      \\n7-days retention ratio: {round(df_retention[1],2)}%\")"
   ]
  },
  {
   "cell_type": "markdown",
   "id": "761937c8-4f99-4ab5-81bf-211048b53d18",
   "metadata": {},
   "source": [
    "So, a little less than half of the players come back one day after installing the game. 18 percent of the players come back 7 day after installing the game."
   ]
  },
  {
   "cell_type": "code",
   "execution_count": 57,
   "id": "d7028d75-838f-4809-aa7d-9813da5e8f79",
   "metadata": {},
   "outputs": [
    {
     "data": {
      "text/html": [
       "<div>\n",
       "<style scoped>\n",
       "    .dataframe tbody tr th:only-of-type {\n",
       "        vertical-align: middle;\n",
       "    }\n",
       "\n",
       "    .dataframe tbody tr th {\n",
       "        vertical-align: top;\n",
       "    }\n",
       "\n",
       "    .dataframe thead th {\n",
       "        text-align: right;\n",
       "    }\n",
       "</style>\n",
       "<table border=\"1\" class=\"dataframe\">\n",
       "  <thead>\n",
       "    <tr style=\"text-align: right;\">\n",
       "      <th></th>\n",
       "      <th>userid</th>\n",
       "      <th>retention_1</th>\n",
       "      <th>retention_7</th>\n",
       "      <th>sum_gamerounds</th>\n",
       "    </tr>\n",
       "    <tr>\n",
       "      <th>version</th>\n",
       "      <th></th>\n",
       "      <th></th>\n",
       "      <th></th>\n",
       "      <th></th>\n",
       "    </tr>\n",
       "  </thead>\n",
       "  <tbody>\n",
       "    <tr>\n",
       "      <th>gate_30</th>\n",
       "      <td>44700</td>\n",
       "      <td>0.448188</td>\n",
       "      <td>0.190201</td>\n",
       "      <td>2344795</td>\n",
       "    </tr>\n",
       "    <tr>\n",
       "      <th>gate_40</th>\n",
       "      <td>45489</td>\n",
       "      <td>0.442283</td>\n",
       "      <td>0.182000</td>\n",
       "      <td>2333530</td>\n",
       "    </tr>\n",
       "  </tbody>\n",
       "</table>\n",
       "</div>"
      ],
      "text/plain": [
       "         userid  retention_1  retention_7  sum_gamerounds\n",
       "version                                                  \n",
       "gate_30   44700     0.448188     0.190201         2344795\n",
       "gate_40   45489     0.442283     0.182000         2333530"
      ]
     },
     "execution_count": 57,
     "metadata": {},
     "output_type": "execute_result"
    }
   ],
   "source": [
    "# Calculating 1-day and 7-days retention for each A/B group\n",
    "df_retention_ab = df.groupby(\"version\").agg({\"userid\":\"count\", \"retention_1\":\"mean\",\"retention_7\":\"mean\", \"sum_gamerounds\":\"sum\"})\n",
    "df_retention_ab"
   ]
  },
  {
   "cell_type": "markdown",
   "id": "2cd34795-5649-4d46-92bc-520522a8adbc",
   "metadata": {},
   "source": [
    "There was a slight decrease in 1-day retention when the gate was moved to level 40 (44.2%) compared to the control group when it was at level 30 (44.8%).\n",
    "\n",
    "Again,a decrease in 7-day retention when the gate was moved to level 40 (18.2%) compared to the control group when it was at level 30\n",
    "\n",
    "It's a small change, but even small changes in retention can have a large impact. But while we are certain of the difference in the data, how certain should we be that a gate at level 40 will be worse in the future?"
   ]
  },
  {
   "cell_type": "markdown",
   "id": "1507255f-903b-4360-9099-a7dab25aa0fe",
   "metadata": {},
   "source": [
    "## Z-Test for Proportions (Retention Rates)"
   ]
  },
  {
   "cell_type": "code",
   "execution_count": 20,
   "id": "c77e96d3-a45f-45ef-b96b-27eb75ca2f4f",
   "metadata": {},
   "outputs": [
    {
     "name": "stdout",
     "output_type": "stream",
     "text": [
      "Day 1 Retention Z-Test\n",
      "Z = 1.784, p = 0.074\n",
      "\n",
      "Day 7 Retention Z-Test\n",
      "Z = 3.164, p = 0.002\n"
     ]
    }
   ],
   "source": [
    "from statsmodels.stats.proportion import proportions_ztest\n",
    "\n",
    "# Count of retained users and total users by version\n",
    "ret_1_counts = df.groupby('version')['retention_1'].agg([sum, 'count'])\n",
    "ret_7_counts = df.groupby('version')['retention_7'].agg([sum, 'count'])\n",
    "\n",
    "# Day 1 Retention Z-Test\n",
    "z1, p1 = proportions_ztest(count=ret_1_counts['sum'], nobs=ret_1_counts['count'])\n",
    "print(\"Day 1 Retention Z-Test\")\n",
    "print(f\"Z = {z1:.3f}, p = {p1:.3f}\")\n",
    "\n",
    "# Day 7 Retention Z-Test\n",
    "z7, p7 = proportions_ztest(count=ret_7_counts['sum'], nobs=ret_7_counts['count'])\n",
    "print(\"\\nDay 7 Retention Z-Test\")\n",
    "print(f\"Z = {z7:.3f}, p = {p7:.3f}\")\n"
   ]
  },
  {
   "cell_type": "markdown",
   "id": "58c1250c-df00-4f5c-a115-19f4e646b5a8",
   "metadata": {},
   "source": [
    "#### 📌 Interpretation:\n",
    "\n",
    "* The difference in 7-day retention between the two versions **is statistically significant**.\n",
    "* This suggests that placing the first gate at **level 30 leads to significantly higher 7-day retention**.\n",
    "* The result supports the hypothesis that **early engagement (via gate at level 30)** keeps players coming back longer.\n",
    "\n",
    "---\n",
    "\n",
    "### 🧠 Summary:\n",
    "\n",
    "| Retention Metric | Z-Value | p-Value | Statistically Significant? | Interpretation                                |\n",
    "| ---------------- | ------- | ------- | -------------------------- | --------------------------------------------- |\n",
    "| Day 1 Retention  | 1.784   | 0.074   | ❌ No                       | Suggests a trend but not conclusive           |\n",
    "| Day 7 Retention  | 3.164   | 0.002   | ✅ Yes                      | Gate at level 30 improves long-term retention |\n",
    "\n",
    "---\n"
   ]
  },
  {
   "cell_type": "markdown",
   "id": "37862e8b-b2ef-4750-9f1a-7279df53eb4b",
   "metadata": {},
   "source": [
    "###  T-Test for sum_gamerounds"
   ]
  },
  {
   "cell_type": "code",
   "execution_count": 53,
   "id": "8c44f573-51e3-4ad8-9a01-5b4fa4170739",
   "metadata": {},
   "outputs": [
    {
     "name": "stdout",
     "output_type": "stream",
     "text": [
      "\n",
      "Game Rounds T-Test\n",
      "T-statistic = 0.885, p = 0.376\n"
     ]
    }
   ],
   "source": [
    "from scipy.stats import ttest_ind\n",
    "\n",
    "# Split into two groups\n",
    "g30 = df[df['version'] == 'gate_30']['sum_gamerounds']\n",
    "g40 = df[df['version'] == 'gate_40']['sum_gamerounds']\n",
    "\n",
    "# Run t-test\n",
    "t_stat, p_val = ttest_ind(g30, g40, equal_var=False)  \n",
    "\n",
    "print(\"\\nGame Rounds T-Test\")\n",
    "print(f\"T-statistic = {t_stat:.3f}, p = {p_val:.3f}\")"
   ]
  },
  {
   "cell_type": "markdown",
   "id": "018b8661-9d60-439b-831a-e3d2a0b61a0e",
   "metadata": {},
   "source": [
    "The p-value (0.376) is much greater than 0.05, which means the result is not statistically significant.\n",
    "\n",
    "This indicates that there is no strong evidence to suggest a meaningful difference in average game rounds played between the two groups.\n",
    "\n",
    "The small T-statistic (0.885) further confirms that the difference between group means is minimal and likely due to random variation.\n",
    "\n",
    "### Findings:\n",
    "Changing the gate from level 30 to level 40 did not significantly affect the total gameplay activity (number of rounds played). Players in both groups played a similar number of rounds on average"
   ]
  },
  {
   "cell_type": "markdown",
   "id": "3e52b9d2-bb85-4697-bdf3-fd994d3faad4",
   "metadata": {},
   "source": [
    "### Bootstrapping "
   ]
  },
  {
   "cell_type": "code",
   "execution_count": 58,
   "id": "6ef0e589-8ca0-4137-8514-7a85b14a96c4",
   "metadata": {},
   "outputs": [
    {
     "data": {
      "image/png": "[encoded data removed]",
      "text/plain": [
       "<Figure size 1300x500 with 2 Axes>"
      ]
     },
     "metadata": {},
     "output_type": "display_data"
    }
   ],
   "source": [
    "# Creating an list with bootstrapped means for each A/B group\n",
    "boot_1d = []\n",
    "boot_7d = []\n",
    "for i in range(500):\n",
    "    boot_mean_1 = df.sample(frac=1, replace=True).groupby('version')['retention_1'].mean()\n",
    "    boot_mean_7 = df.sample(frac=1, replace=True).groupby('version')['retention_7'].mean()\n",
    "    boot_1d.append(boot_mean_1)\n",
    "    boot_7d.append(boot_mean_7)\n",
    "    \n",
    "# Transforming the list to a DataFrame\n",
    "boot_1d = pd.DataFrame(boot_1d)\n",
    "boot_7d = pd.DataFrame(boot_7d)\n",
    "\n",
    "# Kernel Density Estimate plot of the bootstrap distributions\n",
    "fig, (ax1,ax2) = plt.subplots(1, 2, sharey=True, figsize=(13,5))\n",
    "\n",
    "boot_1d.plot.kde(ax=ax1)\n",
    "ax1.set_xlabel(\"retantion rate\",size=12)\n",
    "ax1.set_ylabel(\"number of sample\",size=12)\n",
    "ax1.set_title(\"1 day retention rate distribution\", fontweight=\"bold\",size=14)\n",
    "\n",
    "boot_7d.plot.kde(ax=ax2)\n",
    "ax2.set_xlabel(\"retantion rate\",size=12)\n",
    "ax2.set_title(\"7 days retention rate distribution\", fontweight=\"bold\",size=14)\n",
    "plt.show()"
   ]
  },
  {
   "cell_type": "code",
   "execution_count": 60,
   "id": "5edd986a-1255-42b5-9f4c-1b54c3949f90",
   "metadata": {},
   "outputs": [
    {
     "name": "stdout",
     "output_type": "stream",
     "text": [
      "The probability that 1-day retention is greater when the gate is at level 30: 97.2%\n",
      "The probability that 7-day retention is greater when the gate is at level 30: 100.0%\n"
     ]
    }
   ],
   "source": [
    "# Step 1: Calculate the difference for each bootstrap sample\n",
    "boot_1d['diff'] = boot_1d['gate_30'] - boot_1d['gate_40']\n",
    "boot_7d['diff'] = boot_7d['gate_30'] - boot_7d['gate_40']\n",
    "\n",
    "# Step 2: Calculate the probability that retention is higher when gate is at level 30\n",
    "prob_1 = (boot_1d['diff'] > 0).sum() / len(boot_1d)\n",
    "prob_7 = (boot_7d['diff'] > 0).sum() / len(boot_7d)\n",
    "\n",
    "# Step 3: Print results\n",
    "print(f\"The probability that 1-day retention is greater when the gate is at level 30: {round(prob_1 * 100, 2)}%\")\n",
    "print(f\"The probability that 7-day retention is greater when the gate is at level 30: {round(prob_7 * 100, 2)}%\")\n"
   ]
  },
  {
   "cell_type": "code",
   "execution_count": 61,
   "id": "6e55f17f-5b53-4620-b083-0267eff66f8a",
   "metadata": {},
   "outputs": [
    {
     "name": "stdout",
     "output_type": "stream",
     "text": [
      "1-Day Retention Difference CI: [-0.00012619  0.01225809]\n",
      "7-Day Retention Difference CI: [0.00312345 0.01324124]\n"
     ]
    }
   ],
   "source": [
    "ci_1d = np.percentile(boot_1d['diff'], [2.5, 97.5])\n",
    "ci_7d = np.percentile(boot_7d['diff'], [2.5, 97.5])\n",
    "print(\"1-Day Retention Difference CI:\", ci_1d)\n",
    "print(\"7-Day Retention Difference CI:\", ci_7d)\n"
   ]
  },
  {
   "cell_type": "markdown",
   "id": "fcb444ec-abf3-4f4c-a634-43dbaa00b0a7",
   "metadata": {},
   "source": [
    "# 🍪 Cookies Game A/B Test Documentation\n",
    "\n",
    "## 📌 Objective\n",
    "\n",
    "To evaluate whether **delaying the first gate from level 30 to level 40** in the game improves **player retention**. A *gate* is a game mechanism that forces a player to either wait or make an in-app purchase to proceed. The hypothesis is that **delaying the first gate** will improve player experience and engagement, leading to better retention.\n",
    "\n",
    "---\n",
    "\n",
    "## Target Metrics\n",
    "\n",
    "We analyzed the impact of the gate position using the following metrics:\n",
    "\n",
    "| Metric           | Description                                                          |\n",
    "| ---------------- | -------------------------------------------------------------------- |\n",
    "| `retention_1`    | Whether the player came back 1 day after installing the game.        |\n",
    "| `retention_7`    | Whether the player returned **every day** for 7 days after install.  |\n",
    "| `sum_gamerounds` | Total number of rounds played within 14 days of installing the game. |\n",
    "\n",
    "---\n",
    "\n",
    "## Test Groups\n",
    "\n",
    "| Version   | Description                   |\n",
    "| --------- | ----------------------------- |\n",
    "| `gate_30` | First gate placed at level 30 |\n",
    "| `gate_40` | First gate placed at level 40 |\n",
    "\n",
    "---\n",
    "\n",
    "## Statistical Methods Used\n",
    "\n",
    "### 1. **Z-Test for Proportions**\n",
    "\n",
    "Used to test **retention\\_1** and **retention\\_7** between the two groups.\n",
    "\n",
    "#### Results:\n",
    "\n",
    "```\n",
    "Day 1 Retention Z-Test:     Z = 1.784, p = 0.074\n",
    "Day 7 Retention Z-Test:     Z = 3.164, p = 0.002\n",
    "```\n",
    "\n",
    "* **Day 1 Retention**: Not statistically significant (p > 0.05), but suggests a trend favoring gate\\_30.\n",
    "* **Day 7 Retention**: Statistically significant (p < 0.05), indicating **higher retention when gate is at level 30**.\n",
    "\n",
    "---\n",
    "\n",
    "### 2. **T-Test for Means**\n",
    "\n",
    "Used to test the difference in the average `sum_gamerounds`.\n",
    "\n",
    "#### Results:\n",
    "\n",
    "```\n",
    "T-Statistic = 0.885, p = 0.376\n",
    "```\n",
    "\n",
    "* **Not statistically significant**: No meaningful difference in total gameplay between groups.\n",
    "\n",
    "---\n",
    "\n",
    "### 3. **Bootstrapping**\n",
    "\n",
    "A resampling method used to estimate **confidence intervals** and probability distributions for retention differences.\n",
    "\n",
    "#### Results (Bootstrap):\n",
    "\n",
    "| Metric       | Mean Difference (Gate 30 - Gate 40) | 95% Confidence Interval | Probability Gate 30 > Gate 40 |\n",
    "| ------------ | ----------------------------------- | ----------------------- | ----------------------------- |\n",
    "| retention\\_1 | \\~1.17%                             | \\[-0.01%, +1.23%]       | 97.2%                         |\n",
    "| retention\\_7 | \\~1.32%                             | \\[+0.31%, +1.32%]       | 100.0%                        |\n",
    "\n",
    "---\n",
    "\n",
    "## Visualizations\n",
    "\n",
    "* Kernel Density Estimates of 1-day and 7-day retention bootstrap distributions\n",
    "* Confidence intervals on retention differences\n",
    "* We can see that there seems to be some evidence of a difference, albeit small\n",
    "\n",
    "---\n",
    "\n",
    "## ✅ Conclusion\n",
    "\n",
    "* ✅ **7-Day retention** significantly improved when the gate was placed at level **30**.\n",
    "* ⚠️ **1-Day retention** showed improvement but was not statistically significant at the 95% confidence level.\n",
    "* ❌ No significant difference in gameplay rounds (`sum_gamerounds`).\n",
    "\n",
    "### 📌 Recommendation:\n",
    "\n",
    "> Keep the first gate at **level 30** to optimize player retention and long-term engagement.\n"
   ]
  },
  {
   "cell_type": "code",
   "execution_count": null,
   "id": "fb760b3a-2615-4ff2-9675-9b1b5f81a0a6",
   "metadata": {},
   "outputs": [],
   "source": []
  }
 ],
 "metadata": {
  "kernelspec": {
   "display_name": "Python 3 (ipykernel)",
   "language": "python",
   "name": "python3"
  },
  "language_info": {
   "codemirror_mode": {
    "name": "ipython",
    "version": 3
   },
   "file_extension": ".py",
   "mimetype": "text/x-python",
   "name": "python",
   "nbconvert_exporter": "python",
   "pygments_lexer": "ipython3",
   "version": "3.12.7"
  }
 },
 "nbformat": 4,
 "nbformat_minor": 5
}
